{
 "cells": [
  {
   "cell_type": "markdown",
   "metadata": {},
   "source": [
    "# Sajid_ALI_AI0002_DL Assignment-2_______Center: Kharagpur"
   ]
  },
  {
   "cell_type": "code",
   "execution_count": 1,
   "metadata": {},
   "outputs": [
    {
     "name": "stderr",
     "output_type": "stream",
     "text": [
      "Using TensorFlow backend.\n"
     ]
    }
   ],
   "source": [
    "#IMPORTS\n",
    "import os\n",
    "import numpy as np\n",
    "import pandas as pd \n",
    "from sklearn.preprocessing import StandardScaler\n",
    "import tensorflow as tf\n",
    "import keras\n",
    "from keras.models import Sequential\n",
    "from keras.layers import Dense , Dropout,Flatten\n",
    "from keras.utils import np_utils\n",
    "import matplotlib.pyplot as plt\n",
    "from keras.regularizers import l2"
   ]
  },
  {
   "cell_type": "code",
   "execution_count": 2,
   "metadata": {},
   "outputs": [],
   "source": [
    "train_data = np.load(\"training_data.npy\")\n",
    "train_label = np.load(\"training_label.npy\")\n",
    "test_data  = np.load(\"testing_data.npy\")\n",
    "\n",
    "#train_data\n",
    "#train_label"
   ]
  },
  {
   "cell_type": "code",
   "execution_count": 3,
   "metadata": {},
   "outputs": [],
   "source": [
    "#Importing data & Pre-processing\n",
    "\n",
    "\n",
    "#train_data = train_data.reshape(60000, 784)\n",
    "#test_data  = test_data.reshape(10000, 784)\n",
    "train_data = train_data.astype('float32') \n",
    "test_data =  test_data.astype('float32')\n",
    "train_label = train_label.astype('float32')\n",
    "#train_data /= 255 \n",
    "#test_data  /= 255\n",
    "classes = 10\n",
    "\n",
    "train_label = np_utils.to_categorical(train_label,classes)"
   ]
  },
  {
   "cell_type": "code",
   "execution_count": 4,
   "metadata": {},
   "outputs": [
    {
     "name": "stderr",
     "output_type": "stream",
     "text": [
      "WARNING: Logging before flag parsing goes to stderr.\n",
      "W0721 17:11:41.212776 139897423198016 deprecation_wrapper.py:119] From /opt/anaconda3/lib/python3.7/site-packages/keras/backend/tensorflow_backend.py:74: The name tf.get_default_graph is deprecated. Please use tf.compat.v1.get_default_graph instead.\n",
      "\n",
      "W0721 17:11:41.306105 139897423198016 deprecation_wrapper.py:119] From /opt/anaconda3/lib/python3.7/site-packages/keras/backend/tensorflow_backend.py:517: The name tf.placeholder is deprecated. Please use tf.compat.v1.placeholder instead.\n",
      "\n",
      "W0721 17:11:41.318080 139897423198016 deprecation_wrapper.py:119] From /opt/anaconda3/lib/python3.7/site-packages/keras/backend/tensorflow_backend.py:4138: The name tf.random_uniform is deprecated. Please use tf.random.uniform instead.\n",
      "\n",
      "W0721 17:11:41.442618 139897423198016 deprecation_wrapper.py:119] From /opt/anaconda3/lib/python3.7/site-packages/keras/backend/tensorflow_backend.py:3976: The name tf.nn.max_pool is deprecated. Please use tf.nn.max_pool2d instead.\n",
      "\n",
      "W0721 17:11:41.451103 139897423198016 deprecation_wrapper.py:119] From /opt/anaconda3/lib/python3.7/site-packages/keras/backend/tensorflow_backend.py:133: The name tf.placeholder_with_default is deprecated. Please use tf.compat.v1.placeholder_with_default instead.\n",
      "\n",
      "W0721 17:11:41.472542 139897423198016 deprecation.py:506] From /opt/anaconda3/lib/python3.7/site-packages/keras/backend/tensorflow_backend.py:3445: calling dropout (from tensorflow.python.ops.nn_ops) with keep_prob is deprecated and will be removed in a future version.\n",
      "Instructions for updating:\n",
      "Please use `rate` instead of `keep_prob`. Rate should be set to `rate = 1 - keep_prob`.\n"
     ]
    }
   ],
   "source": [
    "from keras.layers import Conv2D, MaxPooling2D\n",
    "\n",
    "model = Sequential()\n",
    "model.add(Conv2D(32, kernel_size=(3, 3), activation='relu', input_shape=(28,28,1),kernel_regularizer=l2(0.001)))\n",
    "model.add(Conv2D(64, (3, 3), activation='relu'))\n",
    "model.add(MaxPooling2D(pool_size=(2, 2)))\n",
    "model.add(Dropout(0.25))\n",
    "model.add(Flatten()) # Flattens the input\n",
    "model.add(Dense(128, activation='relu'))\n",
    "model.add(Dropout(0.5))\n",
    "model.add(Dense(classes, activation='softmax'))"
   ]
  },
  {
   "cell_type": "code",
   "execution_count": 5,
   "metadata": {},
   "outputs": [
    {
     "name": "stderr",
     "output_type": "stream",
     "text": [
      "W0721 17:11:41.692065 139897423198016 deprecation_wrapper.py:119] From /opt/anaconda3/lib/python3.7/site-packages/keras/optimizers.py:790: The name tf.train.Optimizer is deprecated. Please use tf.compat.v1.train.Optimizer instead.\n",
      "\n",
      "W0721 17:11:41.774595 139897423198016 deprecation_wrapper.py:119] From /opt/anaconda3/lib/python3.7/site-packages/keras/backend/tensorflow_backend.py:3295: The name tf.log is deprecated. Please use tf.math.log instead.\n",
      "\n"
     ]
    }
   ],
   "source": [
    "model.compile(loss='categorical_crossentropy', optimizer='adam', metrics=['accuracy'])"
   ]
  },
  {
   "cell_type": "code",
   "execution_count": 6,
   "metadata": {},
   "outputs": [
    {
     "name": "stderr",
     "output_type": "stream",
     "text": [
      "/opt/anaconda3/lib/python3.7/site-packages/ipykernel_launcher.py:1: UserWarning: The `nb_epoch` argument in `fit` has been renamed `epochs`.\n",
      "  \"\"\"Entry point for launching an IPython kernel.\n",
      "W0721 17:11:42.111632 139897423198016 deprecation.py:323] From /opt/anaconda3/lib/python3.7/site-packages/tensorflow/python/ops/math_grad.py:1250: add_dispatch_support.<locals>.wrapper (from tensorflow.python.ops.array_ops) is deprecated and will be removed in a future version.\n",
      "Instructions for updating:\n",
      "Use tf.where in 2.0, which has the same broadcast rule as np.where\n"
     ]
    },
    {
     "name": "stdout",
     "output_type": "stream",
     "text": [
      "Train on 48000 samples, validate on 12000 samples\n",
      "Epoch 1/10\n",
      "48000/48000 [==============================] - 82s 2ms/step - loss: 0.5558 - acc: 0.8025 - val_loss: 0.3443 - val_acc: 0.8783\n",
      "Epoch 2/10\n",
      "48000/48000 [==============================] - 73s 2ms/step - loss: 0.3641 - acc: 0.8726 - val_loss: 0.2889 - val_acc: 0.8966\n",
      "Epoch 3/10\n",
      "48000/48000 [==============================] - 80s 2ms/step - loss: 0.3118 - acc: 0.8894 - val_loss: 0.2609 - val_acc: 0.9072\n",
      "Epoch 4/10\n",
      "48000/48000 [==============================] - 82s 2ms/step - loss: 0.2784 - acc: 0.9012 - val_loss: 0.2518 - val_acc: 0.9082\n",
      "Epoch 5/10\n",
      "48000/48000 [==============================] - 73s 2ms/step - loss: 0.2562 - acc: 0.9098 - val_loss: 0.2378 - val_acc: 0.9158\n",
      "Epoch 6/10\n",
      "48000/48000 [==============================] - 86s 2ms/step - loss: 0.2369 - acc: 0.9153 - val_loss: 0.2390 - val_acc: 0.9157\n",
      "Epoch 7/10\n",
      "48000/48000 [==============================] - 75s 2ms/step - loss: 0.2198 - acc: 0.9215 - val_loss: 0.2360 - val_acc: 0.9205\n",
      "Epoch 8/10\n",
      "48000/48000 [==============================] - 53s 1ms/step - loss: 0.2060 - acc: 0.9255 - val_loss: 0.2264 - val_acc: 0.9213\n",
      "Epoch 9/10\n",
      "48000/48000 [==============================] - 51s 1ms/step - loss: 0.1920 - acc: 0.9302 - val_loss: 0.2213 - val_acc: 0.9237\n",
      "Epoch 10/10\n",
      "48000/48000 [==============================] - 54s 1ms/step - loss: 0.1760 - acc: 0.9351 - val_loss: 0.2228 - val_acc: 0.9244\n"
     ]
    }
   ],
   "source": [
    "history = model.fit(train_data, train_label, batch_size=128, nb_epoch=10, verbose=1,validation_split=0.2)"
   ]
  },
  {
   "cell_type": "code",
   "execution_count": 7,
   "metadata": {},
   "outputs": [
    {
     "data": {
      "text/plain": [
       "array([[8.2486969e-11, 2.2679642e-12, 6.6820757e-11, ..., 4.4227513e-06,\n",
       "        2.6625226e-11, 9.9999344e-01],\n",
       "       [2.8904995e-05, 5.0070193e-15, 9.9997044e-01, ..., 5.6089622e-16,\n",
       "        4.0616122e-11, 1.4283083e-14],\n",
       "       [6.7413387e-11, 1.0000000e+00, 6.8177304e-12, ..., 5.5508349e-13,\n",
       "        2.0825579e-11, 1.6870320e-14],\n",
       "       ...,\n",
       "       [7.0756273e-10, 8.1451569e-15, 3.1594633e-11, ..., 6.4514827e-10,\n",
       "        1.0000000e+00, 2.7192376e-10],\n",
       "       [5.1154467e-12, 1.0000000e+00, 4.5080305e-13, ..., 6.4996883e-14,\n",
       "        4.7599196e-14, 2.8264487e-14],\n",
       "       [2.5607924e-06, 6.3230068e-08, 2.3576417e-06, ..., 1.2108840e-01,\n",
       "        2.4203848e-05, 5.1361811e-04]], dtype=float32)"
      ]
     },
     "execution_count": 7,
     "metadata": {},
     "output_type": "execute_result"
    }
   ],
   "source": [
    "test_label = model.predict(test_data)\n",
    "test_label"
   ]
  },
  {
   "cell_type": "code",
   "execution_count": 8,
   "metadata": {},
   "outputs": [],
   "source": [
    "label_2 = np.argmax(test_label,axis=1)"
   ]
  },
  {
   "cell_type": "code",
   "execution_count": 13,
   "metadata": {},
   "outputs": [
    {
     "data": {
      "text/plain": [
       "(10000,)"
      ]
     },
     "execution_count": 13,
     "metadata": {},
     "output_type": "execute_result"
    }
   ],
   "source": [
    "test_label.shape\n",
    "label_2.shape"
   ]
  },
  {
   "cell_type": "code",
   "execution_count": 10,
   "metadata": {},
   "outputs": [],
   "source": [
    "np.save(\"labels_1_2_AI0002\", label_2)"
   ]
  },
  {
   "cell_type": "code",
   "execution_count": 11,
   "metadata": {},
   "outputs": [],
   "source": [
    "from keras.models import load_model\n",
    "model.save('assg_2_model_AI0002.h5')"
   ]
  },
  {
   "cell_type": "code",
   "execution_count": null,
   "metadata": {},
   "outputs": [],
   "source": []
  },
  {
   "cell_type": "code",
   "execution_count": 12,
   "metadata": {},
   "outputs": [
    {
     "data": {
      "text/plain": [
       "<matplotlib.legend.Legend at 0x7f3bbc2363c8>"
      ]
     },
     "execution_count": 12,
     "metadata": {},
     "output_type": "execute_result"
    },
    {
     "data": {
      "image/png": "[encoded data removed]",
      "text/plain": [
       "<Figure size 1008x360 with 2 Axes>"
      ]
     },
     "metadata": {
      "needs_background": "light"
     },
     "output_type": "display_data"
    }
   ],
   "source": [
    "#Plot loss trajectory throughout training.\n",
    "plt.figure(1, figsize=(14,5))\n",
    "plt.subplot(1,2,1)\n",
    "plt.plot(history.history['loss'], label='train')\n",
    "plt.plot(history.history['val_loss'], label='valid')\n",
    "plt.xlabel('Epoch')\n",
    "plt.ylabel('Cross-Entropy Loss')\n",
    "plt.legend()\n",
    "\n",
    "plt.subplot(1,2,2)\n",
    "plt.plot(history.history['acc'], label='train')\n",
    "plt.plot(history.history['val_acc'], label='valid')\n",
    "plt.xlabel('Epoch')\n",
    "plt.ylabel('Accuracy')\n",
    "plt.legend()"
   ]
  },
  {
   "cell_type": "code",
   "execution_count": null,
   "metadata": {},
   "outputs": [],
   "source": []
  },
  {
   "cell_type": "code",
   "execution_count": null,
   "metadata": {},
   "outputs": [],
   "source": []
  },
  {
   "cell_type": "code",
   "execution_count": null,
   "metadata": {},
   "outputs": [],
   "source": [
    "model = Sequential()\n",
    "model.add(Dense(256, activation='relu',input_shape=(784,), kernel_regularizer=l2(0.001))) \n",
    "# Use input_shape=(28,28) for unflattened data. 784\n",
    "model.add(Dense(256, activation='relu'))\n",
    "model.add(Dropout(0.2)) \n",
    "model.add(Dense(10, activation='softmax'))\n",
    "\n",
    "model.summary()\n",
    "\n",
    "\n",
    "\n",
    "\n",
    "plt.figure(1, figsize=(14,3))\n",
    "for i in range(10):\n",
    "    plt.subplot(1,10,i+1)\n",
    "    plt.imshow(train_data[i].reshape(28,28), cmap='gray', interpolation='nearest')\n",
    "    plt.xticks([])\n",
    "    plt.yticks([]) \n",
    "    \n",
    "    \n",
    "#Plot loss trajectory throughout training.\n",
    "plt.figure(1, figsize=(14,5))\n",
    "plt.subplot(1,2,1)\n",
    "plt.plot(history.history['loss'], label='train')\n",
    "plt.plot(history.history['val_loss'], label='valid')\n",
    "plt.xlabel('Epoch')\n",
    "plt.ylabel('Cross-Entropy Loss')\n",
    "plt.legend()\n",
    "\n",
    "plt.subplot(1,2,2)\n",
    "plt.plot(history.history['acc'], label='train')\n",
    "plt.plot(history.history['val_acc'], label='valid')\n",
    "plt.xlabel('Epoch')\n",
    "plt.ylabel('Accuracy')\n",
    "plt.legend()\n",
    "\n",
    "#df     = pd.DataFrame(train_data) \n",
    "#df_label = pd.DataFrame(train_label)\n",
    "#testdf = pd.DataFrame(test_data)\n",
    "#dftrain = df.T\n",
    "#dftest  = testdf\n",
    "#dftrain_rn = dftrain.rename(columns={0: \"x\", 1: \"y\"})\n",
    "#dftest_rn  = dftest.rename(columns={0: \"x\"})\n",
    "#dftrain_rn.iloc[:,0:1]\n",
    "#dftest_rn"
   ]
  }
 ],
 "metadata": {
  "kernelspec": {
   "display_name": "Python 3",
   "language": "python",
   "name": "python3"
  },
  "language_info": {
   "codemirror_mode": {
    "name": "ipython",
    "version": 3
   },
   "file_extension": ".py",
   "mimetype": "text/x-python",
   "name": "python",
   "nbconvert_exporter": "python",
   "pygments_lexer": "ipython3",
   "version": "3.7.3"
  }
 },
 "nbformat": 4,
 "nbformat_minor": 2
}
